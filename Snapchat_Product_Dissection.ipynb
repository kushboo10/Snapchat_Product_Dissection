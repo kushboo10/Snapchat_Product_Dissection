{
  "cells": [
    {
      "cell_type": "markdown",
      "id": "e7e73e19",
      "metadata": {
        "id": "e7e73e19"
      },
      "source": [
        "#Product Dissection Project: Snapchat\n",
        "##### **Contribution**    - Individual\n",
        "**Prepared by**: Kushboo Jain\n",
        "####**Goal** : This project is a case study on **Snapchat**, a social media platform known for its disappearing messages and creative filters. The aim is to analyze Snapchat's features, understand the problems it solves, and design a schema with an ER diagram."
      ]
    },
    {
      "cell_type": "markdown",
      "id": "8b98126b",
      "metadata": {
        "id": "8b98126b"
      },
      "source": [
        "#Introduction:\n",
        "Snapchat is not just another social media app. It is a camera-first communication platform that focuses on sharing quick photos and videos called Snaps. These Snaps disappear after being viewed, which makes users feel more relaxed and free compared to other platforms where everything stays forever. This unique idea of temporary content has made Snapchat popular among young people who value fun and privacy.\n",
        "\n",
        "## Step 1: Company Overview\n",
        "Snapchat was founded in 2011 by **Evan Spiegel, Bobby Murphy, and Reggie Brown**. It quickly became popular for its unique idea of sending photos and videos that disappear after viewing. Snapchat is especially popular among younger users and is known for its focus on **privacy, creativity, and fun communication**.\n",
        "\n",
        "\n",
        "### Key Highlights:\n",
        "- Disappearing photos and videos (Snaps) - allow private, casual sharing without permanence.  \n",
        "- Stories that last 24 hours - let users highlight moments without cluttering chats.  \n",
        "- Lenses and Filters - make selfies and content fun, while also being a big source of brand revenue.  \n",
        "- Snap Map - helps users connect socially and discover local events.  \n",
        "- Spotlight - gives creators visibility and rewards them for popular content.  \n",
        "- Discover - shares trending news and entertainment content.  \n",
        "\n",
        "### Timeline of Features:\n",
        "- 2013: Stories (Snaps that last 24 hours)  \n",
        "- 2015: Lenses and Filters (AR effects)  \n",
        "- 2017: Snap Map (location sharing)  \n",
        "- 2020: Spotlight (short viral videos)  \n",
        "\n",
        "These milestones show how Snapchat evolved to match user needs and stay relevant in a competitive social media space.\n"
      ]
    },
    {
      "cell_type": "markdown",
      "id": "2d79e02c",
      "metadata": {
        "id": "2d79e02c"
      },
      "source": [
        "### Step 2: Problems Snapchat Solves\n",
        "\n",
        "Snapchat was designed to solve several real-world communication problems:\n",
        "\n",
        "- **Permanent digital footprint** - Snaps disappear automatically, giving users more privacy.  \n",
        "- **Boring online interactions** - Fun AR filters, Bitmojis, and lenses make conversations lively.  \n",
        "- **Lack of close daily connections** - Snapstreaks encourage friends to interact every day.  \n",
        "- **Overly public sharing** - Stories and private Snaps allow more control over who sees your content.  \n",
        "- **Limited visibility for creators** - Spotlight gives small creators a platform to showcase their talent.  \n",
        "\n",
        "One of the biggest problems people faced on other social media apps was the pressure of permanent posts. Snapchat solved this by making Snaps disappear after being viewed. This created a safer space for casual communication. It also introduced AR filters to make messaging fun and expressive, and Spotlight to help creators gain visibility.\n"
      ]
    },
    {
      "cell_type": "markdown",
      "source": [
        "**Bar Chart of Snapchat Features**\n",
        "\n",
        "---\n",
        "\n"
      ],
      "metadata": {
        "id": "VsMIRL5wr5ZE"
      },
      "id": "VsMIRL5wr5ZE"
    },
    {
      "cell_type": "code",
      "source": [
        "import matplotlib.pyplot as plt\n",
        "\n",
        "# Features and their popularity (example data in %)\n",
        "features = [\"Stories\", \"Chat\", \"Snaps\", \"Filters\", \"Snap Map\", \"Spotlight\"]\n",
        "popularity = [40, 30, 15, 7, 5, 3]\n",
        "\n",
        "plt.figure(figsize=(8,5))\n",
        "plt.bar(features, popularity, color=\"skyblue\", edgecolor=\"black\")\n",
        "plt.title(\"Most Popular Snapchat Features\", fontsize=14, fontweight=\"bold\")\n",
        "plt.xlabel(\"Features\")\n",
        "plt.ylabel(\"Popularity (%)\")\n",
        "plt.show()\n"
      ],
      "metadata": {
        "colab": {
          "base_uri": "https://localhost:8080/",
          "height": 488
        },
        "id": "phEMJEXXr9Y8",
        "outputId": "798f6b69-02f5-4f48-a9e0-ebeb0ef157b5"
      },
      "id": "phEMJEXXr9Y8",
      "execution_count": 1,
      "outputs": [
        {
          "output_type": "display_data",
          "data": {
            "text/plain": [
              "<Figure size 800x500 with 1 Axes>"
            ],
            "image/png": "[encoded data removed]"
          },
          "metadata": {}
        }
      ]
    },
    {
      "cell_type": "markdown",
      "source": [
        "**Interpretation:**  \n",
        "This chart shows that Stories and Chat are Snapchat’s most used features, followed by Snaps and Filters.  \n",
        "It highlights how Snapchat’s focus on short, visual, and fun interactions keeps users engaged daily.\n"
      ],
      "metadata": {
        "id": "xoOX5bDmsL08"
      },
      "id": "xoOX5bDmsL08"
    },
    {
      "cell_type": "markdown",
      "id": "511beba3",
      "metadata": {
        "id": "511beba3"
      },
      "source": [
        "## Step 3: Case Study\n",
        "### Case 1: Casual & Private Conversations\n",
        "- **Problem:** Social media messages felt permanent and risky.\n",
        "- **Solution:** Snapchat introduced disappearing messages and Snaps that vanish after viewing. This gave users the freedom to chat without worrying about long-term consequences.\n",
        "\n",
        "### Case 2: Making Chats Fun\n",
        "- **Problem:** Text-based communication felt plain.\n",
        "- **Solution:** Snapchat added AR lenses, Bitmojis, and filters, making interactions more engaging and creative.\n",
        "\n",
        "### Case 3: Staying Connected Daily\n",
        "- **Problem:** People wanted a fun way to keep in touch with close friends.\n",
        "- **Solution:** Snapchat created Snapstreaks, which motivate friends to send Snaps every day, building consistency and bonding.\n",
        "\n",
        "Imagine a student who wants to send a funny AR selfie to friends but does not want it to stay online forever. On Snapchat, they open the camera, pick a lens, take a Snap, and send it. The Snap is delivered instantly, and once viewed, it disappears. Snapchat still keeps track of who viewed it and when, so the sender has some visibility. This process shows how Snapchat balances privacy (disappearing content) with analytics (view logs)."
      ]
    },
    {
      "cell_type": "markdown",
      "id": "bbc80561",
      "metadata": {
        "id": "bbc80561"
      },
      "source": [
        "## Step 4: Schema Design\n",
        "The schema of Snapchat is designed to support fast, private sharing. A separate table for recipients ensures that one Snap can go to many people, and the platform can still track each person's viewing status. This design supports the core principle of Snapchat - temporary but meaningful communication.\n",
        "Based on Snapchat's features, the following schema design is proposed:"
      ]
    },
    {
      "cell_type": "code",
      "execution_count": null,
      "id": "30c70100",
      "metadata": {
        "id": "30c70100"
      },
      "outputs": [],
      "source": [
        "# Snapchat Schema Design using Python dictionaries\n",
        "\n",
        "# User Entity\n",
        "users = {\n",
        "    \"UserID\": \"int (Primary Key)\",\n",
        "    \"Username\": \"string\",\n",
        "    \"Email\": \"string\",\n",
        "    \"FullName\": \"string\",\n",
        "    \"Bitmoji\": \"string\",\n",
        "    \"DateJoined\": \"date\"\n",
        "}\n",
        "\n",
        "# Snap Entity\n",
        "snaps = {\n",
        "    \"SnapID\": \"int (Primary Key)\",\n",
        "    \"UserID\": \"int (FK to Users)\",\n",
        "    \"MediaType\": \"string (photo/video)\",\n",
        "    \"Timestamp\": \"datetime\",\n",
        "    \"ExpiryTime\": \"datetime\"\n",
        "}\n",
        "\n",
        "# Story Entity\n",
        "stories = {\n",
        "    \"StoryID\": \"int (Primary Key)\",\n",
        "    \"UserID\": \"int (FK to Users)\",\n",
        "    \"Content\": \"string\",\n",
        "    \"PostDate\": \"date\",\n",
        "    \"ExpiryTime\": \"datetime\"\n",
        "}\n",
        "\n",
        "# Friend Entity\n",
        "friends = {\n",
        "    \"FriendID\": \"int (Primary Key)\",\n",
        "    \"User1ID\": \"int (FK to Users)\",\n",
        "    \"User2ID\": \"int (FK to Users)\",\n",
        "    \"SinceDate\": \"date\"\n",
        "}\n",
        "\n",
        "# Chat Entity\n",
        "chats = {\n",
        "    \"ChatID\": \"int (Primary Key)\",\n",
        "    \"SenderID\": \"int (FK to Users)\",\n",
        "    \"ReceiverID\": \"int (FK to Users)\",\n",
        "    \"Message\": \"text\",\n",
        "    \"Timestamp\": \"datetime\",\n",
        "    \"ExpiryTime\": \"datetime\"\n",
        "}\n",
        "\n",
        "# Filter Entity\n",
        "filters = {\n",
        "    \"FilterID\": \"int (Primary Key)\",\n",
        "    \"Name\": \"string\",\n",
        "    \"Type\": \"string (AR, sticker, etc.)\",\n",
        "    \"CreatedBy\": \"string\"\n",
        "}\n",
        "\n",
        "users, snaps, stories, friends, chats, filters"
      ]
    },
    {
      "cell_type": "markdown",
      "source": [
        "**Explanation of Relationships:**\n",
        "- Each Snap belongs to one User.  \n",
        "- A User can create multiple Stories, and each Story expires after 24 hours.  \n",
        "- Friends define the social connections between two Users.  \n",
        "- Chats connect two Users for private conversations.  \n",
        "- Filters are applied to Snaps to add creativity.  \n"
      ],
      "metadata": {
        "id": "t7M7DjwTrHeM"
      },
      "id": "t7M7DjwTrHeM"
    },
    {
      "cell_type": "markdown",
      "id": "eb1e19ee",
      "metadata": {
        "id": "eb1e19ee"
      },
      "source": [
        "## Step 5: ER Diagram\n",
        "The ER diagram shows how Snapchat's entities are connected.  \n",
        "For example:  \n",
        "- Users send Snaps and Chats.  \n",
        "- Stories are linked to Users and expire after a day.  \n",
        "- Friends define the social connections between Users.  \n",
        "- Filters are used within Snaps to enhance creativity.  \n",
        "\n",
        "This visual makes it clear how Snapchat maintains both private conversations and social sharing in one platform."
      ]
    },
    {
      "cell_type": "code",
      "execution_count": 2,
      "id": "ae401c82",
      "metadata": {
        "id": "ae401c82",
        "colab": {
          "base_uri": "https://localhost:8080/",
          "height": 403
        },
        "outputId": "710562ec-7ebc-49fc-ea67-190ae5220cdc"
      },
      "outputs": [
        {
          "output_type": "execute_result",
          "data": {
            "image/svg+xml": "<?xml version=\"1.0\" encoding=\"UTF-8\" standalone=\"no\"?>\n<!DOCTYPE svg PUBLIC \"-//W3C//DTD SVG 1.1//EN\"\n \"http://www.w3.org/Graphics/SVG/1.1/DTD/svg11.dtd\">\n<!-- Generated by graphviz version 2.43.0 (0)\n -->\n<!-- Title: %3 Pages: 1 -->\n<svg width=\"1588pt\" height=\"271pt\"\n viewBox=\"0.00 0.00 1587.99 271.22\" xmlns=\"http://www.w3.org/2000/svg\" xmlns:xlink=\"http://www.w3.org/1999/xlink\">\n<g id=\"graph0\" class=\"graph\" transform=\"scale(1 1) rotate(0) translate(4 267.22)\">\n<title>%3</title>\n<polygon fill=\"white\" stroke=\"transparent\" points=\"-4,4 -4,-267.22 1583.99,-267.22 1583.99,4 -4,4\"/>\n<!-- User -->\n<g id=\"node1\" class=\"node\">\n<title>User</title>\n<ellipse fill=\"none\" stroke=\"black\" cx=\"763.16\" cy=\"-236.35\" rx=\"167.67\" ry=\"26.74\"/>\n<text text-anchor=\"middle\" x=\"763.16\" y=\"-240.15\" font-family=\"Times,serif\" font-size=\"14.00\">User</text>\n<text text-anchor=\"middle\" x=\"763.16\" y=\"-225.15\" font-family=\"Times,serif\" font-size=\"14.00\">(UserID, Username, Email, Bitmoji, ...)</text>\n</g>\n<!-- Snap -->\n<g id=\"node2\" class=\"node\">\n<title>Snap</title>\n<ellipse fill=\"none\" stroke=\"black\" cx=\"195.16\" cy=\"-131.61\" rx=\"195.32\" ry=\"26.74\"/>\n<text text-anchor=\"middle\" x=\"195.16\" y=\"-135.41\" font-family=\"Times,serif\" font-size=\"14.00\">Snap</text>\n<text text-anchor=\"middle\" x=\"195.16\" y=\"-120.41\" font-family=\"Times,serif\" font-size=\"14.00\">(SnapID, UserID, MediaType, ExpiryTime, ...)</text>\n</g>\n<!-- User&#45;&gt;Snap -->\n<g id=\"edge1\" class=\"edge\">\n<title>User&#45;&gt;Snap</title>\n<path fill=\"none\" stroke=\"black\" d=\"M654.99,-215.78C559.51,-198.51 420.33,-173.34 320.13,-155.21\"/>\n<polygon fill=\"black\" stroke=\"black\" points=\"320.71,-151.76 310.25,-153.43 319.47,-158.65 320.71,-151.76\"/>\n<text text-anchor=\"middle\" x=\"529.66\" y=\"-180.28\" font-family=\"Times,serif\" font-size=\"14.00\">sends</text>\n</g>\n<!-- Story -->\n<g id=\"node3\" class=\"node\">\n<title>Story</title>\n<ellipse fill=\"none\" stroke=\"black\" cx=\"591.16\" cy=\"-131.61\" rx=\"183.28\" ry=\"26.74\"/>\n<text text-anchor=\"middle\" x=\"591.16\" y=\"-135.41\" font-family=\"Times,serif\" font-size=\"14.00\">Story</text>\n<text text-anchor=\"middle\" x=\"591.16\" y=\"-120.41\" font-family=\"Times,serif\" font-size=\"14.00\">(StoryID, UserID, Content, ExpiryTime, ...)</text>\n</g>\n<!-- User&#45;&gt;Story -->\n<g id=\"edge2\" class=\"edge\">\n<title>User&#45;&gt;Story</title>\n<path fill=\"none\" stroke=\"black\" d=\"M721.09,-210.22C697.24,-195.98 667.24,-178.06 642.08,-163.03\"/>\n<polygon fill=\"black\" stroke=\"black\" points=\"643.78,-159.96 633.4,-157.84 640.19,-165.97 643.78,-159.96\"/>\n<text text-anchor=\"middle\" x=\"707.16\" y=\"-180.28\" font-family=\"Times,serif\" font-size=\"14.00\">creates</text>\n</g>\n<!-- Friend -->\n<g id=\"node4\" class=\"node\">\n<title>Friend</title>\n<ellipse fill=\"none\" stroke=\"black\" cx=\"935.16\" cy=\"-131.61\" rx=\"142.67\" ry=\"26.74\"/>\n<text text-anchor=\"middle\" x=\"935.16\" y=\"-135.41\" font-family=\"Times,serif\" font-size=\"14.00\">Friend</text>\n<text text-anchor=\"middle\" x=\"935.16\" y=\"-120.41\" font-family=\"Times,serif\" font-size=\"14.00\">(FriendID, User1ID, User2ID, ...)</text>\n</g>\n<!-- User&#45;&gt;Friend -->\n<g id=\"edge4\" class=\"edge\">\n<title>User&#45;&gt;Friend</title>\n<path fill=\"none\" stroke=\"black\" d=\"M805.24,-210.22C829.26,-195.87 859.53,-177.79 884.81,-162.69\"/>\n<polygon fill=\"black\" stroke=\"black\" points=\"886.73,-165.62 893.52,-157.48 883.14,-159.61 886.73,-165.62\"/>\n<text text-anchor=\"middle\" x=\"901.66\" y=\"-180.28\" font-family=\"Times,serif\" font-size=\"14.00\">connected with</text>\n</g>\n<!-- Chat -->\n<g id=\"node5\" class=\"node\">\n<title>Chat</title>\n<ellipse fill=\"none\" stroke=\"black\" cx=\"1338.16\" cy=\"-131.61\" rx=\"241.66\" ry=\"26.74\"/>\n<text text-anchor=\"middle\" x=\"1338.16\" y=\"-135.41\" font-family=\"Times,serif\" font-size=\"14.00\">Chat</text>\n<text text-anchor=\"middle\" x=\"1338.16\" y=\"-120.41\" font-family=\"Times,serif\" font-size=\"14.00\">(ChatID, SenderID, ReceiverID, Message, ExpiryTime, ...)</text>\n</g>\n<!-- User&#45;&gt;Chat -->\n<g id=\"edge3\" class=\"edge\">\n<title>User&#45;&gt;Chat</title>\n<path fill=\"none\" stroke=\"black\" d=\"M871.99,-215.9C966.36,-199.04 1103.28,-174.58 1204.33,-156.52\"/>\n<polygon fill=\"black\" stroke=\"black\" points=\"1205.08,-159.95 1214.31,-154.74 1203.85,-153.05 1205.08,-159.95\"/>\n<text text-anchor=\"middle\" x=\"1124.66\" y=\"-180.28\" font-family=\"Times,serif\" font-size=\"14.00\">sends/receives</text>\n</g>\n<!-- Filter -->\n<g id=\"node6\" class=\"node\">\n<title>Filter</title>\n<ellipse fill=\"none\" stroke=\"black\" cx=\"195.16\" cy=\"-26.87\" rx=\"114.6\" ry=\"26.74\"/>\n<text text-anchor=\"middle\" x=\"195.16\" y=\"-30.67\" font-family=\"Times,serif\" font-size=\"14.00\">Filter</text>\n<text text-anchor=\"middle\" x=\"195.16\" y=\"-15.67\" font-family=\"Times,serif\" font-size=\"14.00\">(FilterID, Name, Type, ...)</text>\n</g>\n<!-- Snap&#45;&gt;Filter -->\n<g id=\"edge5\" class=\"edge\">\n<title>Snap&#45;&gt;Filter</title>\n<path fill=\"none\" stroke=\"black\" d=\"M195.16,-104.68C195.16,-92.4 195.16,-77.51 195.16,-64.12\"/>\n<polygon fill=\"black\" stroke=\"black\" points=\"198.66,-63.79 195.16,-53.79 191.66,-63.79 198.66,-63.79\"/>\n<text text-anchor=\"middle\" x=\"207.16\" y=\"-75.54\" font-family=\"Times,serif\" font-size=\"14.00\">uses</text>\n</g>\n</g>\n</svg>\n",
            "text/plain": [
              "<graphviz.graphs.Digraph at 0x7c3ea8590f50>"
            ]
          },
          "metadata": {},
          "execution_count": 2
        }
      ],
      "source": [
        "from graphviz import Digraph\n",
        "\n",
        "dot = Digraph()\n",
        "\n",
        "# Entities\n",
        "dot.node(\"User\", \"User\\n(UserID, Username, Email, Bitmoji, ...)\")\n",
        "dot.node(\"Snap\", \"Snap\\n(SnapID, UserID, MediaType, ExpiryTime, ...)\")\n",
        "dot.node(\"Story\", \"Story\\n(StoryID, UserID, Content, ExpiryTime, ...)\")\n",
        "dot.node(\"Friend\", \"Friend\\n(FriendID, User1ID, User2ID, ...)\")\n",
        "dot.node(\"Chat\", \"Chat\\n(ChatID, SenderID, ReceiverID, Message, ExpiryTime, ...)\")\n",
        "dot.node(\"Filter\", \"Filter\\n(FilterID, Name, Type, ...)\")\n",
        "\n",
        "# Relationships\n",
        "dot.edge(\"User\", \"Snap\", label=\"sends\")\n",
        "dot.edge(\"User\", \"Story\", label=\"creates\")\n",
        "dot.edge(\"User\", \"Chat\", label=\"sends/receives\")\n",
        "dot.edge(\"User\", \"Friend\", label=\"connected with\")\n",
        "dot.edge(\"Snap\", \"Filter\", label=\"uses\")\n",
        "\n",
        "dot.render(\"snapchat_schema\", format=\"png\", cleanup=False)\n",
        "dot"
      ]
    },
    {
      "cell_type": "markdown",
      "source": [
        "This ER diagram clearly illustrates how Snapchat manages both private conversations and social sharing within a single platform."
      ],
      "metadata": {
        "id": "E5S3NiqCs-LP"
      },
      "id": "E5S3NiqCs-LP"
    },
    {
      "cell_type": "markdown",
      "id": "c55621c8",
      "metadata": {
        "id": "c55621c8"
      },
      "source": [
        "## Step 6: Rationale Behind the Design\n",
        "Users are the main entity, since all actions start from them.  \n",
        "Snaps and Chats have an ExpiryTime to match Snapchat's privacy-first design.  \n",
        "Stories are linked to Users and also expire after 24 hours.  \n",
        "Friends entity represents the social graph (connections between users).  \n",
        "Filters add creativity, connected to Snaps.  \n",
        "\n",
        "The design also ensures scalability, since millions of users can send Snaps and Stories daily while still maintaining expiry rules. This balance of privacy and scalability is a core strength of Snapchat's schema.\n"
      ]
    },
    {
      "cell_type": "markdown",
      "id": "d17e8f9b",
      "metadata": {
        "id": "d17e8f9b"
      },
      "source": [
        "## Step 7: Conclusion\n",
        "Snapchat changed the way people communicate online by making conversations more private, fun, and short-lived. Its unique features like disappearing Snaps, AR filters, and Snapstreaks keep users engaged in a playful way.  \n",
        "\n",
        "The schema design and ER diagram show how entities like Users, Snaps, Stories, Friends, and Chats connect together to support these features.  \n",
        "\n",
        "By working on this project, I understood how product features translate into database schema and how data design directly supports user experience. This project gave me hands-on experience in dissecting a real-world product and designing its backend schema.  \n",
        "\n",
        "\n",
        "#### **GitHub Link -** [View this project on GitHub](https://github.com/kushboo10/Snapchat_Product_Dissection)"
      ]
    }
  ],
  "metadata": {
    "colab": {
      "provenance": []
    },
    "language_info": {
      "name": "python"
    },
    "kernelspec": {
      "name": "python3",
      "display_name": "Python 3"
    }
  },
  "nbformat": 4,
  "nbformat_minor": 5
}