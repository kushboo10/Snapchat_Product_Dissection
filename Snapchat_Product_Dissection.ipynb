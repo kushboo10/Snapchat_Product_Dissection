{
  "cells": [
    {
      "cell_type": "markdown",
      "id": "e7e73e19",
      "metadata": {
        "id": "e7e73e19"
      },
      "source": [
        "#Product Dissection Project: Snapchat\n",
        "##### **Contribution**    - Individual\n",
        "**Prepared by**: Kushboo Jain\n",
        "####**Goal** : This project is a case study on **Snapchat**, a social media platform known for its disappearing messages and creative filters. The aim is to analyze Snapchat’s features, understand the problems it solves, and design a schema with an ER diagram."
      ]
    },
    {
      "cell_type": "markdown",
      "id": "8b98126b",
      "metadata": {
        "id": "8b98126b"
      },
      "source": [
        "#Introduction:\n",
        "Snapchat is not just another social media app. It is a camera-first communication platform that focuses on sharing quick photos and videos called Snaps. These Snaps disappear after being viewed, which makes users feel more relaxed and free compared to other platforms where everything stays forever. This unique idea of temporary content has made Snapchat popular among young people who value fun and privacy.\n",
        "\n",
        "## Step 1: Company Overview\n",
        "Snapchat was founded in 2011 by **Evan Spiegel, Bobby Murphy, and Reggie Brown**. It quickly became popular for its unique idea of sending photos and videos that disappear after viewing. Snapchat is especially popular among younger users and is known for its focus on **privacy, creativity, and fun communication**.\n",
        "\n",
        "\n",
        "### Key Highlights:\n",
        "- Disappearing photos and videos (Snaps)\n",
        "- Stories that last 24 hours\n",
        "- Snap Map for location sharing\n",
        "- Streaks to keep friends engaged daily\n",
        "- Augmented Reality (AR) filters and lenses\n",
        "- Discover for news and trending content\n",
        "Snaps - allow private, casual sharing without permanence.\n",
        "\n",
        "Stories - let users highlight moments for a day without cluttering chats.\n",
        "\n",
        "Lenses and Filters - make selfies and content fun, while also being a big source of brand revenue.\n",
        "\n",
        "Snap Map - helps users connect socially and discover local events.\n",
        "\n",
        "Spotlight - gives creators visibility and rewards them for popular content\n",
        "\n",
        "2013: Stories (Snaps that last 24 hours)\n",
        "\n",
        "2015: Lenses and Filters (AR effects)\n",
        "\n",
        "2017: Snap Map (location sharing)\n",
        "\n",
        "2020: Spotlight (short viral videos)\n",
        "\n",
        "\n",
        "**These milestones show how Snapchat evolved to match user needs and stay relevant in a competitive social media space.**"
      ]
    },
    {
      "cell_type": "markdown",
      "id": "2d79e02c",
      "metadata": {
        "id": "2d79e02c"
      },
      "source": [
        "## Step 2: Problems Snapchat Solves\n",
        "Snapchat was designed to solve real-world communication problems:\n",
        "\n",
        "1. **Permanent digital footprint** - Snaps disappear automatically, giving users more privacy.\n",
        "2. **Boring online interactions** - Fun AR filters, Bitmojis, and lenses make conversations lively.\n",
        "3. **Lack of close daily connections** - Snapstreaks encourage friends to interact every day.\n",
        "4. **Overly public sharing on other platforms** - Stories and private Snaps allow more control over who sees your content.\n",
        "\n",
        "###Real-World Problems Solved\n",
        "One of the biggest problems people faced on other social media apps was the pressure of permanent posts. Snapchat solved this by making Snaps disappear after being viewed. This simple feature created a safer space for quick, casual communication. Another problem was the lack of creativity in messaging. Snapchat introduced AR lenses and filters to make conversations more expressive and fun. Finally, it gave creators a stage with Spotlight, solving the problem of visibility for small creators."
      ]
    },
    {
      "cell_type": "markdown",
      "id": "511beba3",
      "metadata": {
        "id": "511beba3"
      },
      "source": [
        "## Step 3: Case Study\n",
        "### Case 1: Casual & Private Conversations\n",
        "- **Problem:** Social media messages felt permanent and risky.\n",
        "- **Solution:** Snapchat introduced disappearing messages and Snaps that vanish after viewing. This gave users the freedom to chat without worrying about long-term consequences.\n",
        "\n",
        "### Case 2: Making Chats Fun\n",
        "- **Problem:** Text-based communication felt plain.\n",
        "- **Solution:** Snapchat added AR lenses, Bitmojis, and filters, making interactions more engaging and creative.\n",
        "\n",
        "### Case 3: Staying Connected Daily\n",
        "- **Problem:** People wanted a fun way to keep in touch with close friends.\n",
        "- **Solution:** Snapchat created Snapstreaks, which motivate friends to send Snaps every day, building consistency and bonding.\n",
        "\n",
        "Imagine a student who wants to send a funny AR selfie to friends but does not want it to stay online forever. On Snapchat, they open the camera, pick a lens, take a Snap, and send it. The Snap is delivered instantly, and once viewed, it disappears. Snapchat still keeps track of who viewed it and when, so the sender has some visibility. This process shows how Snapchat balances privacy (disappearing content) with analytics (view logs)."
      ]
    },
    {
      "cell_type": "markdown",
      "id": "bbc80561",
      "metadata": {
        "id": "bbc80561"
      },
      "source": [
        "## Step 4: Schema Design\n",
        "The schema of Snapchat is designed to support fast, private sharing. A separate table for recipients ensures that one Snap can go to many people, and the platform can still track each person’s viewing status. This design supports the core principle of Snapchat - temporary but meaningful communication.\n",
        "Based on Snapchat’s features, the following schema design is proposed:"
      ]
    },
    {
      "cell_type": "code",
      "execution_count": null,
      "id": "30c70100",
      "metadata": {
        "id": "30c70100"
      },
      "outputs": [],
      "source": [
        "# Snapchat Schema Design using Python dictionaries\n",
        "\n",
        "# User Entity\n",
        "users = {\n",
        "    \"UserID\": \"int (Primary Key)\",\n",
        "    \"Username\": \"string\",\n",
        "    \"Email\": \"string\",\n",
        "    \"FullName\": \"string\",\n",
        "    \"Bitmoji\": \"string\",\n",
        "    \"DateJoined\": \"date\"\n",
        "}\n",
        "\n",
        "# Snap Entity\n",
        "snaps = {\n",
        "    \"SnapID\": \"int (Primary Key)\",\n",
        "    \"UserID\": \"int (FK to Users)\",\n",
        "    \"MediaType\": \"string (photo/video)\",\n",
        "    \"Timestamp\": \"datetime\",\n",
        "    \"ExpiryTime\": \"datetime\"\n",
        "}\n",
        "\n",
        "# Story Entity\n",
        "stories = {\n",
        "    \"StoryID\": \"int (Primary Key)\",\n",
        "    \"UserID\": \"int (FK to Users)\",\n",
        "    \"Content\": \"string\",\n",
        "    \"PostDate\": \"date\",\n",
        "    \"ExpiryTime\": \"datetime\"\n",
        "}\n",
        "\n",
        "# Friend Entity\n",
        "friends = {\n",
        "    \"FriendID\": \"int (Primary Key)\",\n",
        "    \"User1ID\": \"int (FK to Users)\",\n",
        "    \"User2ID\": \"int (FK to Users)\",\n",
        "    \"SinceDate\": \"date\"\n",
        "}\n",
        "\n",
        "# Chat Entity\n",
        "chats = {\n",
        "    \"ChatID\": \"int (Primary Key)\",\n",
        "    \"SenderID\": \"int (FK to Users)\",\n",
        "    \"ReceiverID\": \"int (FK to Users)\",\n",
        "    \"Message\": \"text\",\n",
        "    \"Timestamp\": \"datetime\",\n",
        "    \"ExpiryTime\": \"datetime\"\n",
        "}\n",
        "\n",
        "# Filter Entity\n",
        "filters = {\n",
        "    \"FilterID\": \"int (Primary Key)\",\n",
        "    \"Name\": \"string\",\n",
        "    \"Type\": \"string (AR, sticker, etc.)\",\n",
        "    \"CreatedBy\": \"string\"\n",
        "}\n",
        "\n",
        "users, snaps, stories, friends, chats, filters"
      ]
    },
    {
      "cell_type": "markdown",
      "id": "eb1e19ee",
      "metadata": {
        "id": "eb1e19ee"
      },
      "source": [
        "## Step 5: ER Diagram\n",
        "The ER diagram clearly shows how Snapchat entities are connected. Users send Snaps, which may use Lenses, and Snaps are delivered to multiple recipients. Stories group Snaps together, while Spotlight stores public content. This visual makes it easy to understand Snapchat’s backend structure.\n",
        "The following ER diagram represents Snapchat’s schema."
      ]
    },
    {
      "cell_type": "code",
      "execution_count": null,
      "id": "ae401c82",
      "metadata": {
        "id": "ae401c82"
      },
      "outputs": [],
      "source": [
        "from graphviz import Digraph\n",
        "\n",
        "dot = Digraph()\n",
        "\n",
        "# Entities\n",
        "dot.node(\"User\", \"User\\n(UserID, Username, Email, Bitmoji, ...)\")\n",
        "dot.node(\"Snap\", \"Snap\\n(SnapID, UserID, MediaType, ExpiryTime, ...)\")\n",
        "dot.node(\"Story\", \"Story\\n(StoryID, UserID, Content, ExpiryTime, ...)\")\n",
        "dot.node(\"Friend\", \"Friend\\n(FriendID, User1ID, User2ID, ...)\")\n",
        "dot.node(\"Chat\", \"Chat\\n(ChatID, SenderID, ReceiverID, Message, ExpiryTime, ...)\")\n",
        "dot.node(\"Filter\", \"Filter\\n(FilterID, Name, Type, ...)\")\n",
        "\n",
        "# Relationships\n",
        "dot.edge(\"User\", \"Snap\", label=\"sends\")\n",
        "dot.edge(\"User\", \"Story\", label=\"creates\")\n",
        "dot.edge(\"User\", \"Chat\", label=\"sends/receives\")\n",
        "dot.edge(\"User\", \"Friend\", label=\"connected with\")\n",
        "dot.edge(\"Snap\", \"Filter\", label=\"uses\")\n",
        "\n",
        "dot.render(\"snapchat_schema\", format=\"png\", cleanup=False)\n",
        "dot"
      ]
    },
    {
      "cell_type": "markdown",
      "id": "c55621c8",
      "metadata": {
        "id": "c55621c8"
      },
      "source": [
        "## Step 6: Rationale Behind the Design\n",
        "- **Users** are the main entity, since all actions start from them.\n",
        "- **Snaps** and **Chats** have an **ExpiryTime** to match Snapchat’s privacy-first design.\n",
        "- **Stories** are linked to Users and also expire after 24 hours.\n",
        "- **Friends** entity represents the social graph (connections between users).\n",
        "- **Filters** add creativity, connected to Snaps.\n",
        "\n",
        "This schema captures Snapchat’s focus on fun, privacy, and quick interactions."
      ]
    },
    {
      "cell_type": "markdown",
      "id": "d17e8f9b",
      "metadata": {
        "id": "d17e8f9b"
      },
      "source": [
        "## Step 7: Conclusion\n",
        "Snapchat changed the way people communicate online by making conversations more private, fun, and short-lived. Its unique features like disappearing Snaps, AR filters, and Snapstreaks keep users engaged in a playful way. The schema design and ER diagram show how entities like Users, Snaps, Stories, Friends, and Chats connect together. This project helped me understand how Snapchat’s data structure supports its features and overall success.\n",
        "\n",
        "#### **GitHub Link -** [View this project on GitHub](https://github.com/kushboo10/Snapchat_Product_Dissection)"
      ]
    }
  ],
  "metadata": {
    "colab": {
      "provenance": []
    }
  },
  "nbformat": 4,
  "nbformat_minor": 5
}